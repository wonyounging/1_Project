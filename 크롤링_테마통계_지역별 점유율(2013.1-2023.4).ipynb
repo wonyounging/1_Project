{
 "cells": [
  {
   "cell_type": "code",
   "execution_count": 1,
   "id": "e072d5d5",
   "metadata": {},
   "outputs": [],
   "source": [
    "import pandas as pd\n",
    "import requests\n",
    "from bs4 import BeautifulSoup\n",
    "import time\n",
    "from selenium import webdriver\n",
    "from selenium.webdriver.common.keys import Keys\n",
    "from selenium.webdriver.common.by import By\n",
    "from selenium.webdriver.common.alert import Alert"
   ]
  },
  {
   "cell_type": "code",
   "execution_count": 6,
   "id": "01caa91e",
   "metadata": {},
   "outputs": [],
   "source": [
    "url = 'https://www.kobis.or.kr/kobis/business/stat/them/findAreaShareList.do'\n",
    "driver = webdriver.Chrome()\n",
    "driver.get(url)\n",
    "req = requests.get(url)\n",
    "soup = BeautifulSoup(req.text, 'html.parser')"
   ]
  },
  {
   "cell_type": "code",
   "execution_count": 3,
   "id": "4d3c87dd",
   "metadata": {
    "collapsed": true
   },
   "outputs": [
    {
     "ename": "SyntaxError",
     "evalue": "invalid syntax (4104796219.py, line 1)",
     "output_type": "error",
     "traceback": [
      "\u001b[1;36m  Cell \u001b[1;32mIn[3], line 1\u001b[1;36m\u001b[0m\n\u001b[1;33m    //*[@id=\"sSearchFrom\"] # 시작일\u001b[0m\n\u001b[1;37m    ^\u001b[0m\n\u001b[1;31mSyntaxError\u001b[0m\u001b[1;31m:\u001b[0m invalid syntax\n"
     ]
    }
   ],
   "source": [
    "//*[@id=\"sSearchFrom\"] # 시작일\n",
    "//*[@id=\"sSearchTo\"] # 종료일\n",
    "//*[@id=\"searchForm\"]/div/div[2]/button # 조회버튼\n",
    "//*[@id=\"content\"]/div[3]/div/a # 엑셀 저장 버튼"
   ]
  },
  {
   "cell_type": "markdown",
   "id": "3ada55db",
   "metadata": {},
   "source": [
    "# 특정 월 검색 엑셀 저장"
   ]
  },
  {
   "cell_type": "code",
   "execution_count": 7,
   "id": "06b209db",
   "metadata": {},
   "outputs": [],
   "source": [
    "driver.find_element(By.XPATH, '//*[@id=\"sSearchFrom\"]').click()\n",
    "time.sleep(1)\n",
    "\n",
    "webdriver.ActionChains(driver).key_down(Keys.CONTROL).send_keys(\"a\").perform()\n",
    "time.sleep(1)\n",
    "\n",
    "driver.find_element(By.XPATH, '//*[@id=\"sSearchFrom\"]').send_keys(\"2022-05-01\" + Keys.ENTER)\n",
    "driver.find_element(By.XPATH, '//*[@id=\"sSearchFrom\"]').send_keys(\"2022-05-01\" + Keys.ENTER)\n",
    "time.sleep(1)\n",
    "\n",
    "driver.find_element(By.XPATH, '//*[@id=\"sSearchTo\"]').click()\n",
    "time.sleep(1)\n",
    "\n",
    "webdriver.ActionChains(driver).key_down(Keys.CONTROL).send_keys(\"a\").perform()\n",
    "time.sleep(1)\n",
    "\n",
    "driver.find_element(By.XPATH, '//*[@id=\"sSearchTo\"]').send_keys(\"2022-05-31\" + Keys.ENTER)\n",
    "driver.find_element(By.XPATH, '//*[@id=\"sSearchTo\"]').send_keys(\"2022-05-31\" + Keys.ENTER)\n",
    "time.sleep(1)\n",
    "\n",
    "driver.find_element(By.XPATH, '//*[@id=\"searchForm\"]/div/div[2]/button').click()\n",
    "time.sleep(1)\n",
    "\n",
    "driver.find_element(By.XPATH, '//*[@id=\"content\"]/div[3]/div/a').click()\n",
    "time.sleep(1)\n",
    "\n",
    "da = Alert(driver)\n",
    "da.accept()"
   ]
  },
  {
   "cell_type": "markdown",
   "id": "e6bd52fc",
   "metadata": {},
   "source": [
    "# 1년 월 처리"
   ]
  },
  {
   "cell_type": "code",
   "execution_count": null,
   "id": "a1093342",
   "metadata": {},
   "outputs": [],
   "source": [
    "31일 월 1/3/5/7/8/10/12\n",
    "30일 월 4/6/9/11\n",
    "28일 월 2\n",
    "\n",
    "윤년 2016 / 2020"
   ]
  },
  {
   "cell_type": "code",
   "execution_count": 133,
   "id": "6e298c12",
   "metadata": {
    "scrolled": true
   },
   "outputs": [
    {
     "name": "stdout",
     "output_type": "stream",
     "text": [
      "2013\n"
     ]
    }
   ],
   "source": [
    "for year in range(2013, 2024):\n",
    "    print(year)\n",
    "    for months in range(1, 13):\n",
    "        if months == 1:\n",
    "            month = '01'\n",
    "            days = 31\n",
    "        elif months == 2:\n",
    "            month = '02'\n",
    "            if year % 4 == 0:\n",
    "                days = 29\n",
    "            else:\n",
    "                days = 28\n",
    "        elif months == 3:\n",
    "            month = '03'\n",
    "            days = 31\n",
    "        elif months == 4:\n",
    "            month = '04'\n",
    "            days = 30\n",
    "        elif months == 5:\n",
    "            month = '05'\n",
    "            days = 31\n",
    "        elif months == 6:\n",
    "            month = '06'\n",
    "            days = 30\n",
    "        elif months == 7:\n",
    "            month = '07'\n",
    "            days = 31\n",
    "        elif months == 8:\n",
    "            month = '08'\n",
    "            days = 31\n",
    "        elif months == 9:\n",
    "            month = '09'\n",
    "            days = 30\n",
    "        elif months == 10:\n",
    "            month = '10'\n",
    "            days = 31\n",
    "        elif months == 11:\n",
    "            month = '11'\n",
    "            days = 30\n",
    "        elif months == 12:\n",
    "            month = '12'\n",
    "            days = 31\n",
    "        else:\n",
    "            print(\"error\")\n",
    "        time.sleep(2)\n",
    "        driver.find_element(By.XPATH, '//*[@id=\"sSearchFrom\"]').click()\n",
    "        time.sleep(2)\n",
    "\n",
    "        webdriver.ActionChains(driver).key_down(Keys.CONTROL).send_keys(\"a\").perform()\n",
    "        time.sleep(2)\n",
    "\n",
    "        driver.find_element(By.XPATH, '//*[@id=\"sSearchFrom\"]').send_keys(f\"{year}-{month}-01\" + Keys.ENTER)\n",
    "        driver.find_element(By.XPATH, '//*[@id=\"sSearchFrom\"]').send_keys(f\"{year}-{month}-01\" + Keys.ENTER)\n",
    "        time.sleep(2)\n",
    "\n",
    "        driver.find_element(By.XPATH, '//*[@id=\"sSearchTo\"]').click()\n",
    "        time.sleep(2)\n",
    "\n",
    "        webdriver.ActionChains(driver).key_down(Keys.CONTROL).send_keys(\"a\").perform()\n",
    "        time.sleep(2)\n",
    "\n",
    "        driver.find_element(By.XPATH, '//*[@id=\"sSearchTo\"]').send_keys(f\"{year}-{month}-{days}\" + Keys.ENTER)\n",
    "        driver.find_element(By.XPATH, '//*[@id=\"sSearchTo\"]').send_keys(f\"{year}-{month}-{days}\" + Keys.ENTER)\n",
    "        time.sleep(2)\n",
    "\n",
    "        driver.find_element(By.XPATH, '//*[@id=\"searchForm\"]/div/div[2]/button').click()\n",
    "        time.sleep(2)\n",
    "\n",
    "        driver.find_element(By.XPATH, '//*[@id=\"content\"]/div[3]/div/a').click()\n",
    "        time.sleep(2)\n",
    "\n",
    "        da = Alert(driver)\n",
    "        da.accept()"
   ]
  }
 ],
 "metadata": {
  "kernelspec": {
   "display_name": "Python 3 (ipykernel)",
   "language": "python",
   "name": "python3"
  },
  "language_info": {
   "codemirror_mode": {
    "name": "ipython",
    "version": 3
   },
   "file_extension": ".py",
   "mimetype": "text/x-python",
   "name": "python",
   "nbconvert_exporter": "python",
   "pygments_lexer": "ipython3",
   "version": "3.8.7"
  }
 },
 "nbformat": 4,
 "nbformat_minor": 5
}
