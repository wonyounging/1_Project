{
 "cells": [
  {
   "cell_type": "markdown",
   "id": "4c5d6fba",
   "metadata": {},
   "source": [
    "### 영화티켓가격 크롤링"
   ]
  },
  {
   "cell_type": "code",
   "execution_count": 57,
   "id": "60df0829",
   "metadata": {},
   "outputs": [],
   "source": [
    "from bs4 import BeautifulSoup\n",
    "from selenium import webdriver\n",
    "from selenium.webdriver.common.keys import Keys\n",
    "from selenium.webdriver.common.by import By\n",
    "from selenium.webdriver.support.select import Select\n",
    "import time\n",
    "from tqdm.notebook import tqdm\n",
    "\n",
    "import pandas as pd\n",
    "import numpy as np\n",
    "from collections import Counter\n",
    "import statistics\n",
    "\n",
    "import datetime"
   ]
  },
  {
   "cell_type": "code",
   "execution_count": 58,
   "id": "6a9825e8",
   "metadata": {},
   "outputs": [
    {
     "data": {
      "text/plain": [
       "64"
      ]
     },
     "execution_count": 58,
     "metadata": {},
     "output_type": "execute_result"
    }
   ],
   "source": [
    "# 조회일자 설정 2018-01 ~ 2023-04, 조회기간은 매월 1일~7일 (주중+주말 포함)\n",
    "\n",
    "start = []\n",
    "end = []\n",
    "for year in range(2018, 2023):\n",
    "    for month in range(1,13):\n",
    "        start.append(datetime.date(year, month, 1).strftime('%Y-%m-%d'))\n",
    "        end.append(datetime.date(year, month, 7).strftime('%Y-%m-%d'))\n",
    "for month in range(1,5):\n",
    "    start.append(datetime.date(2023, month, 1).strftime('%Y-%m-%d'))\n",
    "    end.append(datetime.date(2023, month, 7).strftime('%Y-%m-%d'))\n",
    "len(start)"
   ]
  },
  {
   "cell_type": "code",
   "execution_count": 4,
   "id": "611c793e",
   "metadata": {},
   "outputs": [],
   "source": [
    "# 최빈값 함수\n",
    "def modefinder(numbers):\n",
    "    c = Counter(numbers)\n",
    "    mode = c.most_common(1)\n",
    "    return mode[0][0]"
   ]
  },
  {
   "cell_type": "code",
   "execution_count": 5,
   "id": "5dc61778",
   "metadata": {},
   "outputs": [],
   "source": [
    "base_url = 'https://www.kobis.or.kr/kobis/business/mast/thea/findShowHistorySc.do'\n",
    "driver = webdriver.Chrome()\n",
    "driver.get(base_url)\n",
    "time.sleep(3)\n",
    "\n",
    "# 지역선택\n",
    "driver.find_element(By.XPATH, '//*[@id=\"searchForm\"]/div/div[2]/div[1]/label').click()\n",
    "driver.find_element(By.XPATH, '//*[@id=\"sWideareaCd\"]').click()\n",
    "driver.find_element(By.XPATH, '//*[@id=\"sWideareaCd\"]/option[2]').click()  #서울시\n",
    "time.sleep(0.2)"
   ]
  },
  {
   "cell_type": "code",
   "execution_count": 43,
   "id": "0d51eeb1",
   "metadata": {
    "scrolled": true
   },
   "outputs": [
    {
     "data": {
      "application/vnd.jupyter.widget-view+json": {
       "model_id": "880d10c4026440cbacd85abd246228e2",
       "version_major": 2,
       "version_minor": 0
      },
      "text/plain": [
       "  0%|          | 0/64 [00:00<?, ?it/s]"
      ]
     },
     "metadata": {},
     "output_type": "display_data"
    }
   ],
   "source": [
    "### CGV : 홍대점\n",
    "min1 = []\n",
    "max1 = []\n",
    "mode1 = []\n",
    "median1 = []\n",
    "\n",
    "driver.find_element(By.XPATH, '//*[@id=\"sBasareaCd\"]').click()\n",
    "driver.find_element(By.XPATH, '//*[@id=\"sBasareaCd\"]/option[14]').click()  #마포구\n",
    "time.sleep(0.2)\n",
    "driver.find_element(By.XPATH, '//*[@id=\"sTheaCd\"]').click()\n",
    "driver.find_element(By.XPATH, '//*[@id=\"sTheaCd\"]/option[4]').click()  #CGV홍대\n",
    "time.sleep(0.2)\n",
    "for i in tqdm(range(0,len(start))):\n",
    "    # 상영기간 선택\n",
    "    driver.find_element(By.XPATH, '//*[@id=\"showStartDt\"]').clear()\n",
    "    driver.find_element(By.XPATH, '//*[@id=\"showStartDt\"]').send_keys(start[i])\n",
    "    driver.find_element(By.XPATH, '//*[@id=\"showEndDt\"]').clear()\n",
    "    driver.find_element(By.XPATH, '//*[@id=\"showEndDt\"]').send_keys(end[i])\n",
    "    time.sleep(0.2)\n",
    "    driver.find_element(By.XPATH, '//*[@id=\"btn_search\"]').click()\n",
    "    time.sleep(4)\n",
    "    soup = BeautifulSoup(driver.page_source, 'html.parser')\n",
    "    list = soup.select('table.tbl3.info3 > tbody > tr > td.left')\n",
    "    price = []\n",
    "    for i in range(0, len(list)+1):\n",
    "        try:\n",
    "            lis = soup.select('table.tbl3.info3 > tbody > tr > td.left')[i]\n",
    "            pr = int(lis.text.split(\" \")[1].split('(')[1].split('원')[0].replace(',',''))\n",
    "            if pr != 0:\n",
    "                price.append(pr)\n",
    "        except:\n",
    "            pass\n",
    "    min1.append(min(price))\n",
    "    max1.append(max(price))\n",
    "    mode1.append(modefinder(price))\n",
    "    median1.append(statistics.median(price))\n",
    "min1 = pd.DataFrame(min1, columns = ['cgv_min'])\n",
    "max1 = pd.DataFrame(max1, columns = ['cgv_max'])\n",
    "mode1 = pd.DataFrame(mode1, columns = ['cgv_mode'])\n",
    "median1 = pd.DataFrame(median1, columns = ['cgv_median'])\n",
    "cgv = pd.concat([min1, median1, max1, mode1], axis = 1)\n",
    "cgv = cgv.astype({'cgv_median':'int64'})\n",
    "cgv.to_csv('CGV.csv', index = False)"
   ]
  },
  {
   "cell_type": "code",
   "execution_count": 47,
   "id": "35474014",
   "metadata": {},
   "outputs": [
    {
     "data": {
      "application/vnd.jupyter.widget-view+json": {
       "model_id": "3b6ae2f157a44dceb09ca7c80089e395",
       "version_major": 2,
       "version_minor": 0
      },
      "text/plain": [
       "  0%|          | 0/64 [00:00<?, ?it/s]"
      ]
     },
     "metadata": {},
     "output_type": "display_data"
    }
   ],
   "source": [
    "### 롯데시네마: 명동 에비뉴엘점\n",
    "min2 = []\n",
    "max2 = []\n",
    "mode2 = []\n",
    "median2 = []\n",
    "\n",
    "driver.find_element(By.XPATH, '//*[@id=\"sBasareaCd\"]').click()\n",
    "driver.find_element(By.XPATH, '//*[@id=\"sBasareaCd\"]/option[25]').click()  #중구\n",
    "time.sleep(0.2)\n",
    "driver.find_element(By.XPATH, '//*[@id=\"sTheaCd\"]').click()\n",
    "driver.find_element(By.XPATH, '//*[@id=\"sTheaCd\"]/option[9]').click()  #롯데시네마 에비뉴엘(명동)\n",
    "time.sleep(0.2)\n",
    "\n",
    "for i in tqdm(range(0,len(start))):\n",
    "    # 상영기간 선택\n",
    "    driver.find_element(By.XPATH, '//*[@id=\"showStartDt\"]').clear()\n",
    "    driver.find_element(By.XPATH, '//*[@id=\"showStartDt\"]').send_keys(start[i])\n",
    "    driver.find_element(By.XPATH, '//*[@id=\"showEndDt\"]').clear()\n",
    "    driver.find_element(By.XPATH, '//*[@id=\"showEndDt\"]').send_keys(end[i])\n",
    "    time.sleep(0.2)\n",
    "    driver.find_element(By.XPATH, '//*[@id=\"btn_search\"]').click()\n",
    "    time.sleep(4)\n",
    "    soup = BeautifulSoup(driver.page_source, 'html.parser')\n",
    "    list = soup.select('table.tbl3.info3 > tbody > tr > td.left')\n",
    "    price = []\n",
    "    for i in range(0, len(list)+1):\n",
    "        try:\n",
    "            lis = soup.select('table.tbl3.info3 > tbody > tr > td.left')[i]\n",
    "            pr = int(lis.text.split(\" \")[1].split('(')[1].split('원')[0].replace(',',''))\n",
    "            if pr != 0:\n",
    "                price.append(pr)\n",
    "        except:\n",
    "            pass\n",
    "    min2.append(min(price))\n",
    "    max2.append(max(price))\n",
    "    mode2.append(modefinder(price))\n",
    "    median2.append(statistics.median(price))\n",
    "min2 = pd.DataFrame(min2, columns = ['lotte_min'])\n",
    "max2 = pd.DataFrame(max2, columns = ['lotte_max'])\n",
    "mode2 = pd.DataFrame(mode2, columns = ['lotte_mode'])\n",
    "median2 = pd.DataFrame(median2, columns = ['lotte_median'])\n",
    "lotte = pd.concat([min2, median2, max2, mode2], axis = 1)\n",
    "lotte = lotte.astype({'lotte_median':'int64'})\n",
    "lotte.to_csv('LotteCinema.csv', index = False)"
   ]
  },
  {
   "cell_type": "code",
   "execution_count": 8,
   "id": "f0a7e517",
   "metadata": {},
   "outputs": [
    {
     "data": {
      "application/vnd.jupyter.widget-view+json": {
       "model_id": "6413827026a04207828d65b78bb2bd1a",
       "version_major": 2,
       "version_minor": 0
      },
      "text/plain": [
       "  0%|          | 0/64 [00:00<?, ?it/s]"
      ]
     },
     "metadata": {},
     "output_type": "display_data"
    }
   ],
   "source": [
    "### 메가박스: 코엑스점\n",
    "min3 = []\n",
    "max3 = []\n",
    "mode3 = []\n",
    "median3 = []\n",
    "\n",
    "driver.find_element(By.XPATH, '//*[@id=\"sBasareaCd\"]').click()\n",
    "driver.find_element(By.XPATH, '//*[@id=\"sBasareaCd\"]/option[2]').click()  #강남구\n",
    "time.sleep(0.2)\n",
    "driver.find_element(By.XPATH, '//*[@id=\"sTheaCd\"]').click()\n",
    "driver.find_element(By.XPATH, '//*[@id=\"sTheaCd\"]/option[11]').click()  #메가박스 코엑스\n",
    "time.sleep(0.2)\n",
    "\n",
    "for i in tqdm(range(0,len(start))):\n",
    "    # 상영기간 선택\n",
    "    driver.find_element(By.XPATH, '//*[@id=\"showStartDt\"]').clear()\n",
    "    driver.find_element(By.XPATH, '//*[@id=\"showStartDt\"]').send_keys(start[i])\n",
    "    driver.find_element(By.XPATH, '//*[@id=\"showEndDt\"]').clear()\n",
    "    driver.find_element(By.XPATH, '//*[@id=\"showEndDt\"]').send_keys(end[i])\n",
    "    time.sleep(0.2)\n",
    "    driver.find_element(By.XPATH, '//*[@id=\"btn_search\"]').click()\n",
    "    time.sleep(4)\n",
    "    soup = BeautifulSoup(driver.page_source, 'html.parser')\n",
    "    list = soup.select('table.tbl3.info3 > tbody > tr > td.left')\n",
    "    price = []\n",
    "    for i in range(0, len(list)+1):\n",
    "        try:\n",
    "            lis = soup.select('table.tbl3.info3 > tbody > tr > td.left')[i]\n",
    "            pr = int(lis.text.split(\" \")[1].split('(')[1].split('원')[0].replace(',',''))\n",
    "            if pr != 0:\n",
    "                price.append(pr)\n",
    "        except:\n",
    "            pass\n",
    "    min3.append(min(price))\n",
    "    max3.append(max(price))\n",
    "    mode3.append(modefinder(price))\n",
    "    median3.append(statistics.median(price))\n",
    "min3 = pd.DataFrame(min3, columns = ['mega_min'])\n",
    "max3 = pd.DataFrame(max3, columns = ['mega_max'])\n",
    "mode3 = pd.DataFrame(mode3, columns = ['mega_mode'])\n",
    "median3 = pd.DataFrame(median3, columns = ['mega_median'])\n",
    "megabox = pd.concat([min3, median3, max3, mode3], axis = 1)\n",
    "megabox = megabox.astype({'mega_median':'int64'})\n",
    "megabox.to_csv('Megabox.csv', index = False)"
   ]
  },
  {
   "cell_type": "code",
   "execution_count": 92,
   "id": "eccab5c3",
   "metadata": {},
   "outputs": [],
   "source": [
    "cgv = pd.read_csv('CGV.csv')\n",
    "lotte = pd.read_csv('LotteCinema.csv')\n",
    "megabox = pd.read_csv('Megabox.csv')\n",
    "cgv.index = start\n",
    "lotte.index = start\n",
    "megabox.index = start"
   ]
  },
  {
   "cell_type": "code",
   "execution_count": 94,
   "id": "e7e2d2f9",
   "metadata": {},
   "outputs": [],
   "source": [
    "ticket = pd.concat([cgv, lotte, megabox], axis = 1)\n",
    "ticket.to_csv('TicketPrice_1.csv', index = False)\n",
    "ticket.to_csv('TicketPrice_2.csv')"
   ]
  }
 ],
 "metadata": {
  "kernelspec": {
   "display_name": "Python 3 (ipykernel)",
   "language": "python",
   "name": "python3"
  },
  "language_info": {
   "codemirror_mode": {
    "name": "ipython",
    "version": 3
   },
   "file_extension": ".py",
   "mimetype": "text/x-python",
   "name": "python",
   "nbconvert_exporter": "python",
   "pygments_lexer": "ipython3",
   "version": "3.8.10"
  }
 },
 "nbformat": 4,
 "nbformat_minor": 5
}
