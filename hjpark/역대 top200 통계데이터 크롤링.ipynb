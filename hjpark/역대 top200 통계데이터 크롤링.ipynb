{
 "cells": [
  {
   "cell_type": "markdown",
   "id": "d6454c7a",
   "metadata": {},
   "source": [
    "### 역대 top200 영화 통계정보, 박스오피스 엑셀 다운로드 크롤링"
   ]
  },
  {
   "cell_type": "code",
   "execution_count": 1,
   "id": "1ee37f96",
   "metadata": {},
   "outputs": [],
   "source": [
    "from bs4 import BeautifulSoup\n",
    "from selenium import webdriver\n",
    "from selenium.webdriver.common.keys import Keys\n",
    "from selenium.webdriver.common.by import By\n",
    "from selenium.webdriver.support.select import Select\n",
    "from selenium.webdriver.common.alert import Alert\n",
    "import time\n",
    "from tqdm.notebook import tqdm\n",
    "\n",
    "import pandas as pd\n",
    "import numpy as np\n",
    "from collections import Counter\n",
    "import statistics\n",
    "\n",
    "import datetime"
   ]
  },
  {
   "cell_type": "code",
   "execution_count": 2,
   "id": "538e3e04",
   "metadata": {},
   "outputs": [],
   "source": [
    "base_url = 'https://www.kobis.or.kr/kobis/business/stat/boxs/findFormerBoxOfficeList.do'\n",
    "driver = webdriver.Chrome()\n",
    "# driver = webdriver.Chrome('chromedriver', options=options)\n",
    "driver.get(base_url)\n",
    "time.sleep(2)"
   ]
  },
  {
   "cell_type": "code",
   "execution_count": 19,
   "id": "34e34b79",
   "metadata": {},
   "outputs": [
    {
     "data": {
      "application/vnd.jupyter.widget-view+json": {
       "model_id": "dce91f4f91fa4f3ca57c7cf387477179",
       "version_major": 2,
       "version_minor": 0
      },
      "text/plain": [
       "  0%|          | 0/40 [00:00<?, ?it/s]"
      ]
     },
     "metadata": {},
     "output_type": "display_data"
    }
   ],
   "source": [
    "sp = driver.find_elements(By.CSS_SELECTOR, '#td_movie > span')\n",
    "for i in tqdm(range(0,len(sp))):\n",
    "    # 영화명 클릭\n",
    "    driver.find_elements(By.CSS_SELECTOR, '#td_movie > span')[i].click()\n",
    "    time.sleep(0.5)\n",
    "    # 통계정보 \n",
    "    driver.find_element(By.CSS_SELECTOR, 'div.wrap_tab.tab2 > ul > li:nth-child(2) > a').click()\n",
    "    time.sleep(50)\n",
    "    # 엑셀다운로드\n",
    "    driver.find_element(By.CSS_SELECTOR, 'div.item_tab.statistics > div:nth-child(3) > div > div > div > div > a').click()\n",
    "    time.sleep(0.5)\n",
    "    # alert\n",
    "    alt = Alert(driver)\n",
    "    alt.accept()\n",
    "    time.sleep(0.5)\n",
    "    # 닫기\n",
    "    driver.find_element(By.CSS_SELECTOR, 'div.hd_layer > a:nth-child(3) > span').click()"
   ]
  },
  {
   "cell_type": "code",
   "execution_count": null,
   "id": "4004cd98",
   "metadata": {},
   "outputs": [],
   "source": []
  }
 ],
 "metadata": {
  "kernelspec": {
   "display_name": "Python 3 (ipykernel)",
   "language": "python",
   "name": "python3"
  },
  "language_info": {
   "codemirror_mode": {
    "name": "ipython",
    "version": 3
   },
   "file_extension": ".py",
   "mimetype": "text/x-python",
   "name": "python",
   "nbconvert_exporter": "python",
   "pygments_lexer": "ipython3",
   "version": "3.8.10"
  }
 },
 "nbformat": 4,
 "nbformat_minor": 5
}
