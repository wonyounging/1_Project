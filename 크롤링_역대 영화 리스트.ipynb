{
 "cells": [
  {
   "cell_type": "code",
   "execution_count": 1,
   "id": "3edfe646",
   "metadata": {},
   "outputs": [],
   "source": [
    "import pandas as pd\n",
    "import requests\n",
    "from bs4 import BeautifulSoup\n",
    "import time\n",
    "from selenium import webdriver\n",
    "from selenium.webdriver.common.keys import Keys\n",
    "from selenium.webdriver.common.by import By\n",
    "from selenium.webdriver.common.alert import Alert"
   ]
  },
  {
   "cell_type": "code",
   "execution_count": 121,
   "id": "088e2023",
   "metadata": {},
   "outputs": [
    {
     "data": {
      "text/html": [
       "<div>\n",
       "<style scoped>\n",
       "    .dataframe tbody tr th:only-of-type {\n",
       "        vertical-align: middle;\n",
       "    }\n",
       "\n",
       "    .dataframe tbody tr th {\n",
       "        vertical-align: top;\n",
       "    }\n",
       "\n",
       "    .dataframe thead th {\n",
       "        text-align: right;\n",
       "    }\n",
       "</style>\n",
       "<table border=\"1\" class=\"dataframe\">\n",
       "  <thead>\n",
       "    <tr style=\"text-align: right;\">\n",
       "      <th></th>\n",
       "      <th>순위</th>\n",
       "      <th>영화명</th>\n",
       "      <th>개봉일</th>\n",
       "      <th>매출액</th>\n",
       "      <th>관객수</th>\n",
       "      <th>스크린수</th>\n",
       "      <th>상영횟수</th>\n",
       "      <th>대표국적</th>\n",
       "      <th>국적</th>\n",
       "      <th>배급사</th>\n",
       "    </tr>\n",
       "  </thead>\n",
       "  <tbody>\n",
       "    <tr>\n",
       "      <th>0</th>\n",
       "      <td>1</td>\n",
       "      <td>명량</td>\n",
       "      <td>2014-07-30</td>\n",
       "      <td>135758658810</td>\n",
       "      <td>17615919</td>\n",
       "      <td>1587</td>\n",
       "      <td>188726</td>\n",
       "      <td>한국</td>\n",
       "      <td>한국</td>\n",
       "      <td>(주)씨제이이엔엠</td>\n",
       "    </tr>\n",
       "    <tr>\n",
       "      <th>1</th>\n",
       "      <td>2</td>\n",
       "      <td>극한직업</td>\n",
       "      <td>2019-01-23</td>\n",
       "      <td>139655543516</td>\n",
       "      <td>16266338</td>\n",
       "      <td>2003</td>\n",
       "      <td>292816</td>\n",
       "      <td>한국</td>\n",
       "      <td>한국</td>\n",
       "      <td>(주)씨제이이엔엠</td>\n",
       "    </tr>\n",
       "    <tr>\n",
       "      <th>2</th>\n",
       "      <td>3</td>\n",
       "      <td>신과함께-죄와 벌</td>\n",
       "      <td>2017-12-20</td>\n",
       "      <td>115727528087</td>\n",
       "      <td>14414658</td>\n",
       "      <td>1912</td>\n",
       "      <td>214631</td>\n",
       "      <td>한국</td>\n",
       "      <td>한국</td>\n",
       "      <td>롯데쇼핑㈜롯데엔터테인먼트</td>\n",
       "    </tr>\n",
       "    <tr>\n",
       "      <th>3</th>\n",
       "      <td>4</td>\n",
       "      <td>국제시장</td>\n",
       "      <td>2014-12-17</td>\n",
       "      <td>110947621230</td>\n",
       "      <td>14264478</td>\n",
       "      <td>1044</td>\n",
       "      <td>212705</td>\n",
       "      <td>한국</td>\n",
       "      <td>한국</td>\n",
       "      <td>(주)씨제이이엔엠</td>\n",
       "    </tr>\n",
       "    <tr>\n",
       "      <th>4</th>\n",
       "      <td>5</td>\n",
       "      <td>어벤져스: 엔드게임</td>\n",
       "      <td>2019-04-24</td>\n",
       "      <td>122492181020</td>\n",
       "      <td>13977602</td>\n",
       "      <td>2835</td>\n",
       "      <td>246433</td>\n",
       "      <td>미국</td>\n",
       "      <td>미국</td>\n",
       "      <td>월트디즈니컴퍼니코리아 유한책임회사</td>\n",
       "    </tr>\n",
       "    <tr>\n",
       "      <th>...</th>\n",
       "      <td>...</td>\n",
       "      <td>...</td>\n",
       "      <td>...</td>\n",
       "      <td>...</td>\n",
       "      <td>...</td>\n",
       "      <td>...</td>\n",
       "      <td>...</td>\n",
       "      <td>...</td>\n",
       "      <td>...</td>\n",
       "      <td>...</td>\n",
       "    </tr>\n",
       "    <tr>\n",
       "      <th>196</th>\n",
       "      <td>197</td>\n",
       "      <td>비긴 어게인</td>\n",
       "      <td>2014-08-13</td>\n",
       "      <td>27433947031</td>\n",
       "      <td>3479444</td>\n",
       "      <td>525</td>\n",
       "      <td>87565</td>\n",
       "      <td>미국</td>\n",
       "      <td>미국</td>\n",
       "      <td>판씨네마(주)</td>\n",
       "    </tr>\n",
       "    <tr>\n",
       "      <th>197</th>\n",
       "      <td>198</td>\n",
       "      <td>태풍</td>\n",
       "      <td>2005-12-14</td>\n",
       "      <td>22209675300</td>\n",
       "      <td>3471150</td>\n",
       "      <td>481</td>\n",
       "      <td>47155</td>\n",
       "      <td>한국</td>\n",
       "      <td>한국</td>\n",
       "      <td>CJ ENM</td>\n",
       "    </tr>\n",
       "    <tr>\n",
       "      <th>198</th>\n",
       "      <td>199</td>\n",
       "      <td>킹콩</td>\n",
       "      <td>2005-12-14</td>\n",
       "      <td>21476688172</td>\n",
       "      <td>3470059</td>\n",
       "      <td>319</td>\n",
       "      <td>38456</td>\n",
       "      <td>미국</td>\n",
       "      <td>미국</td>\n",
       "      <td>UIP코리아</td>\n",
       "    </tr>\n",
       "    <tr>\n",
       "      <th>199</th>\n",
       "      <td>200</td>\n",
       "      <td>부러진 화살</td>\n",
       "      <td>2012-01-18</td>\n",
       "      <td>25938096000</td>\n",
       "      <td>3460212</td>\n",
       "      <td>530</td>\n",
       "      <td>71607</td>\n",
       "      <td>한국</td>\n",
       "      <td>한국</td>\n",
       "      <td>(주)넥스트엔터테인먼트월드(NEW)</td>\n",
       "    </tr>\n",
       "    <tr>\n",
       "      <th>200</th>\n",
       "      <td>합계</td>\n",
       "      <td>NaN</td>\n",
       "      <td>NaT</td>\n",
       "      <td>10100853711525</td>\n",
       "      <td>1277060574</td>\n",
       "      <td>1277060574</td>\n",
       "      <td>230907</td>\n",
       "      <td>NaN</td>\n",
       "      <td>NaN</td>\n",
       "      <td>NaN</td>\n",
       "    </tr>\n",
       "  </tbody>\n",
       "</table>\n",
       "<p>201 rows × 10 columns</p>\n",
       "</div>"
      ],
      "text/plain": [
       "      순위         영화명        개봉일             매출액         관객수        스크린수  \\\n",
       "0      1          명량 2014-07-30    135758658810    17615919        1587   \n",
       "1      2        극한직업 2019-01-23    139655543516    16266338        2003   \n",
       "2      3   신과함께-죄와 벌 2017-12-20    115727528087    14414658        1912   \n",
       "3      4        국제시장 2014-12-17    110947621230    14264478        1044   \n",
       "4      5  어벤져스: 엔드게임 2019-04-24    122492181020    13977602        2835   \n",
       "..   ...         ...        ...             ...         ...         ...   \n",
       "196  197      비긴 어게인 2014-08-13     27433947031     3479444         525   \n",
       "197  198          태풍 2005-12-14     22209675300     3471150         481   \n",
       "198  199          킹콩 2005-12-14     21476688172     3470059         319   \n",
       "199  200      부러진 화살 2012-01-18     25938096000     3460212         530   \n",
       "200   합계         NaN        NaT  10100853711525  1277060574  1277060574   \n",
       "\n",
       "       상영횟수 대표국적   국적                  배급사  \n",
       "0    188726   한국   한국            (주)씨제이이엔엠  \n",
       "1    292816   한국   한국            (주)씨제이이엔엠  \n",
       "2    214631   한국   한국        롯데쇼핑㈜롯데엔터테인먼트  \n",
       "3    212705   한국   한국            (주)씨제이이엔엠  \n",
       "4    246433   미국   미국   월트디즈니컴퍼니코리아 유한책임회사  \n",
       "..      ...  ...  ...                  ...  \n",
       "196   87565   미국   미국              판씨네마(주)  \n",
       "197   47155   한국   한국               CJ ENM  \n",
       "198   38456   미국   미국               UIP코리아  \n",
       "199   71607   한국   한국  (주)넥스트엔터테인먼트월드(NEW)  \n",
       "200  230907  NaN  NaN                  NaN  \n",
       "\n",
       "[201 rows x 10 columns]"
      ]
     },
     "execution_count": 121,
     "metadata": {},
     "output_type": "execute_result"
    }
   ],
   "source": [
    "df = pd.read_excel('./reviewdata/KOBIS_역대_박스오피스(통합전산망_집계_기준)_2023-05-10.xlsx', engine='openpyxl', header=4)\n",
    "df"
   ]
  },
  {
   "cell_type": "code",
   "execution_count": 122,
   "id": "ec9f8eab",
   "metadata": {},
   "outputs": [],
   "source": [
    "df.drop([200], axis=0, inplace=True)"
   ]
  },
  {
   "cell_type": "code",
   "execution_count": 123,
   "id": "1202b39e",
   "metadata": {},
   "outputs": [
    {
     "data": {
      "text/plain": [
       "0               명량\n",
       "1             극한직업\n",
       "2        신과함께-죄와 벌\n",
       "3             국제시장\n",
       "4       어벤져스: 엔드게임\n",
       "          ...     \n",
       "195    해리 포터와 불의 잔\n",
       "196         비긴 어게인\n",
       "197             태풍\n",
       "198             킹콩\n",
       "199         부러진 화살\n",
       "Name: 영화명, Length: 200, dtype: object"
      ]
     },
     "execution_count": 123,
     "metadata": {},
     "output_type": "execute_result"
    }
   ],
   "source": [
    "mlist = df['영화명']\n",
    "mlist"
   ]
  },
  {
   "cell_type": "code",
   "execution_count": 124,
   "id": "95c55c9d",
   "metadata": {},
   "outputs": [
    {
     "data": {
      "text/plain": [
       "'겨울왕국 2'"
      ]
     },
     "execution_count": 124,
     "metadata": {},
     "output_type": "execute_result"
    }
   ],
   "source": [
    "mlist[5]"
   ]
  },
  {
   "cell_type": "code",
   "execution_count": 125,
   "id": "05f2315c",
   "metadata": {},
   "outputs": [],
   "source": [
    "base_url = 'https://search.naver.com/search.naver?sm=tab_hty.top&where=nexearch&query='\n",
    "driver = webdriver.Chrome()\n",
    "driver.get(base_url)"
   ]
  },
  {
   "cell_type": "code",
   "execution_count": 130,
   "id": "483df060",
   "metadata": {},
   "outputs": [],
   "source": [
    "sup_url = f'{mlist[1]}+평점'\n",
    "url = base_url + sup_url\n",
    "driver.get(url)\n",
    "req = requests.get(url)\n",
    "soup = BeautifulSoup(req.text, 'html.parser')"
   ]
  },
  {
   "cell_type": "code",
   "execution_count": 57,
   "id": "1431dde3",
   "metadata": {},
   "outputs": [],
   "source": [
    "# driver.find_element(By.XPATH, '//*[@id=\"nx_query\"]').click()\n",
    "# time.sleep(1)\n",
    "\n",
    "# webdriver.ActionChains(driver).key_down(Keys.CONTROL).send_keys(\"a\").perform()\n",
    "# time.sleep(1)\n",
    "\n",
    "\n",
    "# driver.find_element(By.XPATH, '//*[@id=\"nx_query\"]').send_keys(f'{mlist[0]} 평점' + Keys.ENTER)\n",
    "# time.sleep(1)"
   ]
  },
  {
   "cell_type": "markdown",
   "id": "3ca04acb",
   "metadata": {},
   "source": [
    "# 평점"
   ]
  },
  {
   "cell_type": "code",
   "execution_count": 131,
   "id": "f5430573",
   "metadata": {},
   "outputs": [
    {
     "data": {
      "text/plain": [
       "9.2"
      ]
     },
     "execution_count": 131,
     "metadata": {},
     "output_type": "execute_result"
    }
   ],
   "source": [
    "# 전체 평점\n",
    "tot_score = float(soup.select('.area_star_number')[0].get_text())\n",
    "tot_score"
   ]
  },
  {
   "cell_type": "code",
   "execution_count": 132,
   "id": "e725b221",
   "metadata": {},
   "outputs": [
    {
     "data": {
      "text/plain": [
       "9.16"
      ]
     },
     "execution_count": 132,
     "metadata": {},
     "output_type": "execute_result"
    }
   ],
   "source": [
    "# 남자 평점\n",
    "man_score = float(soup.select('.area_star_number')[1].get_text())\n",
    "man_score"
   ]
  },
  {
   "cell_type": "code",
   "execution_count": 133,
   "id": "929da127",
   "metadata": {},
   "outputs": [
    {
     "data": {
      "text/plain": [
       "9.24"
      ]
     },
     "execution_count": 133,
     "metadata": {},
     "output_type": "execute_result"
    }
   ],
   "source": [
    "# 여자 평점\n",
    "girl_score = float(soup.select('.area_star_number')[2].get_text())\n",
    "girl_score"
   ]
  },
  {
   "cell_type": "markdown",
   "id": "56eea096",
   "metadata": {},
   "source": [
    "# 나이별 만족도"
   ]
  },
  {
   "cell_type": "code",
   "execution_count": 134,
   "id": "31e89b51",
   "metadata": {},
   "outputs": [
    {
     "name": "stdout",
     "output_type": "stream",
     "text": [
      "10대 9.43\n"
     ]
    }
   ],
   "source": [
    "# 10대 만족도\n",
    "age10 = soup.select('.area_graph_age > li')[0].select('.area_text_age')[0].get_text()\n",
    "age10_score = float(soup.select('.area_graph_age > li')[0].select('.this_text_num')[0].get_text())\n",
    "print(age10, age10_score)"
   ]
  },
  {
   "cell_type": "code",
   "execution_count": 135,
   "id": "0f464d21",
   "metadata": {},
   "outputs": [
    {
     "name": "stdout",
     "output_type": "stream",
     "text": [
      "20대 9.32\n"
     ]
    }
   ],
   "source": [
    "# 20대 만족도\n",
    "age20 = soup.select('.area_graph_age > li')[1].select('.area_text_age')[0].get_text()\n",
    "age20_score = float(soup.select('.area_graph_age > li')[1].select('.this_text_num')[0].get_text())\n",
    "print(age20, age20_score)"
   ]
  },
  {
   "cell_type": "code",
   "execution_count": 136,
   "id": "06e032f1",
   "metadata": {},
   "outputs": [
    {
     "name": "stdout",
     "output_type": "stream",
     "text": [
      "30대 9.22\n"
     ]
    }
   ],
   "source": [
    "# 30대 만족도\n",
    "age30 = soup.select('.area_graph_age > li')[2].select('.area_text_age')[0].get_text()\n",
    "age30_score = float(soup.select('.area_graph_age > li')[2].select('.this_text_num')[0].get_text())\n",
    "print(age30, age30_score)"
   ]
  },
  {
   "cell_type": "code",
   "execution_count": 137,
   "id": "62bcbd5d",
   "metadata": {},
   "outputs": [
    {
     "name": "stdout",
     "output_type": "stream",
     "text": [
      "40대 9.09\n"
     ]
    }
   ],
   "source": [
    "# 40대 만족도\n",
    "age40 = soup.select('.area_graph_age > li')[3].select('.area_text_age')[0].get_text()\n",
    "age40_score = float(soup.select('.area_graph_age > li')[3].select('.this_text_num')[0].get_text())\n",
    "print(age40, age40_score)"
   ]
  },
  {
   "cell_type": "code",
   "execution_count": 138,
   "id": "66f0c175",
   "metadata": {},
   "outputs": [
    {
     "name": "stdout",
     "output_type": "stream",
     "text": [
      "50대 8.82\n"
     ]
    }
   ],
   "source": [
    "# 50대 만족도\n",
    "age50 = soup.select('.area_graph_age > li')[4].select('.area_text_age')[0].get_text()\n",
    "age50_score = float(soup.select('.area_graph_age > li')[4].select('.this_text_num')[0].get_text())\n",
    "print(age50, age50_score)"
   ]
  }
 ],
 "metadata": {
  "kernelspec": {
   "display_name": "Python 3 (ipykernel)",
   "language": "python",
   "name": "python3"
  },
  "language_info": {
   "codemirror_mode": {
    "name": "ipython",
    "version": 3
   },
   "file_extension": ".py",
   "mimetype": "text/x-python",
   "name": "python",
   "nbconvert_exporter": "python",
   "pygments_lexer": "ipython3",
   "version": "3.8.7"
  }
 },
 "nbformat": 4,
 "nbformat_minor": 5
}
