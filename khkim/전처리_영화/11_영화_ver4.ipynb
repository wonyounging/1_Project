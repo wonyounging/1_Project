{
 "cells": [
  {
   "cell_type": "code",
   "execution_count": 1,
   "id": "76ec65fd",
   "metadata": {},
   "outputs": [],
   "source": [
    "import pandas as pd\n",
    "import numpy as np"
   ]
  },
  {
   "cell_type": "code",
   "execution_count": 2,
   "id": "ec777f79",
   "metadata": {},
   "outputs": [],
   "source": [
    "from matplotlib import font_manager, rc\n",
    "import matplotlib.pyplot as plt\n",
    "import matplotlib as mpl\n",
    "mpl.rcParams['axes.unicode_minus'] = False  # minus 표시\n",
    "plt.rc('font', family='Malgun Gothic')"
   ]
  },
  {
   "cell_type": "code",
   "execution_count": 3,
   "id": "2fa2a00b",
   "metadata": {},
   "outputs": [
    {
     "name": "stdout",
     "output_type": "stream",
     "text": [
      "Index(['순위', '영화명', '개봉일', '대표국적', '국적', '제작사', '배급사', '등급', '장르', '감독', '배우',\n",
      "       '기준일', '매출액', '누적매출액', '관객수', '누적관객수', '스크린수', '상영횟수', '기준연도', '기준월',\n",
      "       '개봉연도', '개봉월'],\n",
      "      dtype='object')\n"
     ]
    },
    {
     "data": {
      "text/html": [
       "<div>\n",
       "<style scoped>\n",
       "    .dataframe tbody tr th:only-of-type {\n",
       "        vertical-align: middle;\n",
       "    }\n",
       "\n",
       "    .dataframe tbody tr th {\n",
       "        vertical-align: top;\n",
       "    }\n",
       "\n",
       "    .dataframe thead th {\n",
       "        text-align: right;\n",
       "    }\n",
       "</style>\n",
       "<table border=\"1\" class=\"dataframe\">\n",
       "  <thead>\n",
       "    <tr style=\"text-align: right;\">\n",
       "      <th></th>\n",
       "      <th>순위</th>\n",
       "      <th>영화명</th>\n",
       "      <th>개봉일</th>\n",
       "      <th>대표국적</th>\n",
       "      <th>국적</th>\n",
       "      <th>제작사</th>\n",
       "      <th>배급사</th>\n",
       "      <th>등급</th>\n",
       "      <th>장르</th>\n",
       "      <th>감독</th>\n",
       "      <th>...</th>\n",
       "      <th>매출액</th>\n",
       "      <th>누적매출액</th>\n",
       "      <th>관객수</th>\n",
       "      <th>누적관객수</th>\n",
       "      <th>스크린수</th>\n",
       "      <th>상영횟수</th>\n",
       "      <th>기준연도</th>\n",
       "      <th>기준월</th>\n",
       "      <th>개봉연도</th>\n",
       "      <th>개봉월</th>\n",
       "    </tr>\n",
       "  </thead>\n",
       "  <tbody>\n",
       "    <tr>\n",
       "      <th>0</th>\n",
       "      <td>1</td>\n",
       "      <td>신과함께-죄와 벌</td>\n",
       "      <td>2017-12-20</td>\n",
       "      <td>한국</td>\n",
       "      <td>한국</td>\n",
       "      <td>리얼라이즈픽쳐스(주),(주)덱스터스튜디오</td>\n",
       "      <td>롯데쇼핑㈜롯데엔터테인먼트</td>\n",
       "      <td>12세이상관람가</td>\n",
       "      <td>판타지,드라마</td>\n",
       "      <td>김용화</td>\n",
       "      <td>...</td>\n",
       "      <td>7715149100</td>\n",
       "      <td>76065645532</td>\n",
       "      <td>916652</td>\n",
       "      <td>9456147</td>\n",
       "      <td>1644</td>\n",
       "      <td>7957</td>\n",
       "      <td>2018</td>\n",
       "      <td>1</td>\n",
       "      <td>2017</td>\n",
       "      <td>12</td>\n",
       "    </tr>\n",
       "    <tr>\n",
       "      <th>1</th>\n",
       "      <td>2</td>\n",
       "      <td>1987</td>\n",
       "      <td>2017-12-27</td>\n",
       "      <td>한국</td>\n",
       "      <td>한국</td>\n",
       "      <td>(주)우정필름</td>\n",
       "      <td>(주)씨제이이엔엠</td>\n",
       "      <td>15세이상관람가</td>\n",
       "      <td>드라마</td>\n",
       "      <td>장준환</td>\n",
       "      <td>...</td>\n",
       "      <td>4460462100</td>\n",
       "      <td>19714466137</td>\n",
       "      <td>531469</td>\n",
       "      <td>2473546</td>\n",
       "      <td>1097</td>\n",
       "      <td>4982</td>\n",
       "      <td>2018</td>\n",
       "      <td>1</td>\n",
       "      <td>2017</td>\n",
       "      <td>12</td>\n",
       "    </tr>\n",
       "    <tr>\n",
       "      <th>2</th>\n",
       "      <td>4</td>\n",
       "      <td>강철비</td>\n",
       "      <td>2017-12-14</td>\n",
       "      <td>한국</td>\n",
       "      <td>한국</td>\n",
       "      <td>(주)와이웍스엔터테인먼트,(주)브이에이스튜디오</td>\n",
       "      <td>(주)넥스트엔터테인먼트월드(NEW)</td>\n",
       "      <td>15세이상관람가</td>\n",
       "      <td>액션,드라마</td>\n",
       "      <td>양우석</td>\n",
       "      <td>...</td>\n",
       "      <td>944228600</td>\n",
       "      <td>32939126166</td>\n",
       "      <td>114298</td>\n",
       "      <td>4128591</td>\n",
       "      <td>602</td>\n",
       "      <td>1451</td>\n",
       "      <td>2018</td>\n",
       "      <td>1</td>\n",
       "      <td>2017</td>\n",
       "      <td>12</td>\n",
       "    </tr>\n",
       "    <tr>\n",
       "      <th>3</th>\n",
       "      <td>5</td>\n",
       "      <td>위대한 쇼맨</td>\n",
       "      <td>2017-12-20</td>\n",
       "      <td>미국</td>\n",
       "      <td>미국</td>\n",
       "      <td>NaN</td>\n",
       "      <td>월트디즈니컴퍼니코리아 유한책임회사,이십세기폭스코리아(주)</td>\n",
       "      <td>12세이상관람가</td>\n",
       "      <td>드라마,뮤지컬</td>\n",
       "      <td>마이클 그레이시</td>\n",
       "      <td>...</td>\n",
       "      <td>509947700</td>\n",
       "      <td>7166974900</td>\n",
       "      <td>60070</td>\n",
       "      <td>874655</td>\n",
       "      <td>432</td>\n",
       "      <td>843</td>\n",
       "      <td>2018</td>\n",
       "      <td>1</td>\n",
       "      <td>2017</td>\n",
       "      <td>12</td>\n",
       "    </tr>\n",
       "    <tr>\n",
       "      <th>4</th>\n",
       "      <td>7</td>\n",
       "      <td>극장판 포켓몬스터 너로 정했다!</td>\n",
       "      <td>2017-12-21</td>\n",
       "      <td>일본</td>\n",
       "      <td>일본</td>\n",
       "      <td>NaN</td>\n",
       "      <td>(주)이수C&amp;E</td>\n",
       "      <td>전체관람가</td>\n",
       "      <td>애니메이션,어드벤처,가족</td>\n",
       "      <td>유야마 쿠니히코</td>\n",
       "      <td>...</td>\n",
       "      <td>262886500</td>\n",
       "      <td>3380416200</td>\n",
       "      <td>34103</td>\n",
       "      <td>449358</td>\n",
       "      <td>417</td>\n",
       "      <td>605</td>\n",
       "      <td>2018</td>\n",
       "      <td>1</td>\n",
       "      <td>2017</td>\n",
       "      <td>12</td>\n",
       "    </tr>\n",
       "  </tbody>\n",
       "</table>\n",
       "<p>5 rows × 22 columns</p>\n",
       "</div>"
      ],
      "text/plain": [
       "   순위                영화명         개봉일 대표국적  국적                        제작사  \\\n",
       "0   1          신과함께-죄와 벌  2017-12-20   한국  한국     리얼라이즈픽쳐스(주),(주)덱스터스튜디오   \n",
       "1   2               1987  2017-12-27   한국  한국                    (주)우정필름   \n",
       "2   4                강철비  2017-12-14   한국  한국  (주)와이웍스엔터테인먼트,(주)브이에이스튜디오   \n",
       "3   5             위대한 쇼맨  2017-12-20   미국  미국                        NaN   \n",
       "4   7  극장판 포켓몬스터 너로 정했다!  2017-12-21   일본  일본                        NaN   \n",
       "\n",
       "                               배급사        등급             장르        감독  ...  \\\n",
       "0                    롯데쇼핑㈜롯데엔터테인먼트  12세이상관람가        판타지,드라마       김용화  ...   \n",
       "1                        (주)씨제이이엔엠  15세이상관람가            드라마       장준환  ...   \n",
       "2              (주)넥스트엔터테인먼트월드(NEW)  15세이상관람가         액션,드라마       양우석  ...   \n",
       "3  월트디즈니컴퍼니코리아 유한책임회사,이십세기폭스코리아(주)  12세이상관람가        드라마,뮤지컬  마이클 그레이시  ...   \n",
       "4                         (주)이수C&E     전체관람가  애니메이션,어드벤처,가족  유야마 쿠니히코  ...   \n",
       "\n",
       "          매출액        누적매출액     관객수    누적관객수  스크린수  상영횟수  기준연도  기준월  개봉연도  개봉월  \n",
       "0  7715149100  76065645532  916652  9456147  1644  7957  2018    1  2017   12  \n",
       "1  4460462100  19714466137  531469  2473546  1097  4982  2018    1  2017   12  \n",
       "2   944228600  32939126166  114298  4128591   602  1451  2018    1  2017   12  \n",
       "3   509947700   7166974900   60070   874655   432   843  2018    1  2017   12  \n",
       "4   262886500   3380416200   34103   449358   417   605  2018    1  2017   12  \n",
       "\n",
       "[5 rows x 22 columns]"
      ]
     },
     "execution_count": 3,
     "metadata": {},
     "output_type": "execute_result"
    }
   ],
   "source": [
    "file_path = './resources/완_기간별_ordered_180101_to_230509_ver3.csv'\n",
    "mv_2018 = pd.read_csv(file_path)\n",
    "print(mv_2018.columns)\n",
    "mv_2018.head()"
   ]
  },
  {
   "cell_type": "code",
   "execution_count": 5,
   "id": "de957c12",
   "metadata": {},
   "outputs": [
    {
     "data": {
      "text/plain": [
       "순위           0\n",
       "영화명          0\n",
       "개봉일          0\n",
       "대표국적         0\n",
       "국적           0\n",
       "제작사      98953\n",
       "배급사         68\n",
       "등급           2\n",
       "장르          89\n",
       "감독       10513\n",
       "배우       22352\n",
       "기준일          0\n",
       "매출액          0\n",
       "누적매출액        0\n",
       "관객수          0\n",
       "누적관객수        0\n",
       "스크린수         0\n",
       "상영횟수         0\n",
       "기준연도         0\n",
       "기준월          0\n",
       "개봉연도         0\n",
       "개봉월          0\n",
       "dtype: int64"
      ]
     },
     "execution_count": 5,
     "metadata": {},
     "output_type": "execute_result"
    }
   ],
   "source": [
    "mv_2018.isnull().sum()"
   ]
  },
  {
   "cell_type": "code",
   "execution_count": 7,
   "id": "641ea745",
   "metadata": {},
   "outputs": [
    {
     "data": {
      "text/plain": [
       "순위           0\n",
       "영화명          0\n",
       "개봉일          0\n",
       "대표국적         0\n",
       "국적           0\n",
       "제작사      98892\n",
       "배급사          0\n",
       "등급           0\n",
       "장르           0\n",
       "감독       10496\n",
       "배우       22277\n",
       "기준일          0\n",
       "매출액          0\n",
       "누적매출액        0\n",
       "관객수          0\n",
       "누적관객수        0\n",
       "스크린수         0\n",
       "상영횟수         0\n",
       "기준연도         0\n",
       "기준월          0\n",
       "개봉연도         0\n",
       "개봉월          0\n",
       "dtype: int64"
      ]
     },
     "execution_count": 7,
     "metadata": {},
     "output_type": "execute_result"
    }
   ],
   "source": [
    "mv_2018_ver4 = mv_2018.dropna(subset=['배급사', '등급', '장르']) \n",
    "mv_2018_ver4.isnull().sum()"
   ]
  },
  {
   "cell_type": "code",
   "execution_count": 8,
   "id": "572c50f9",
   "metadata": {},
   "outputs": [
    {
     "name": "stderr",
     "output_type": "stream",
     "text": [
      "C:\\Users\\tjoeun\\AppData\\Local\\Temp\\ipykernel_16444\\634341299.py:1: SettingWithCopyWarning: \n",
      "A value is trying to be set on a copy of a slice from a DataFrame.\n",
      "Try using .loc[row_indexer,col_indexer] = value instead\n",
      "\n",
      "See the caveats in the documentation: https://pandas.pydata.org/pandas-docs/stable/user_guide/indexing.html#returning-a-view-versus-a-copy\n",
      "  mv_2018_ver4['기준일'] = pd.to_datetime(mv_2018_ver4['기준일'],format='%Y-%m-%d')\n",
      "C:\\Users\\tjoeun\\AppData\\Local\\Temp\\ipykernel_16444\\634341299.py:2: SettingWithCopyWarning: \n",
      "A value is trying to be set on a copy of a slice from a DataFrame.\n",
      "Try using .loc[row_indexer,col_indexer] = value instead\n",
      "\n",
      "See the caveats in the documentation: https://pandas.pydata.org/pandas-docs/stable/user_guide/indexing.html#returning-a-view-versus-a-copy\n",
      "  mv_2018_ver4['개봉일'] = pd.to_datetime(mv_2018_ver4['개봉일'],format='%Y-%m-%d')\n"
     ]
    }
   ],
   "source": [
    "mv_2018_ver4['기준일'] = pd.to_datetime(mv_2018_ver4['기준일'],format='%Y-%m-%d')\n",
    "mv_2018_ver4['개봉일'] = pd.to_datetime(mv_2018_ver4['개봉일'],format='%Y-%m-%d')"
   ]
  },
  {
   "cell_type": "code",
   "execution_count": 9,
   "id": "962947fa",
   "metadata": {},
   "outputs": [
    {
     "data": {
      "text/plain": [
       "pandas._libs.tslibs.timestamps.Timestamp"
      ]
     },
     "execution_count": 9,
     "metadata": {},
     "output_type": "execute_result"
    }
   ],
   "source": [
    "type(mv_2018_ver4['개봉일'][0])"
   ]
  },
  {
   "cell_type": "code",
   "execution_count": 10,
   "id": "36e1c176",
   "metadata": {},
   "outputs": [],
   "source": [
    "mv_2018_ver4.to_csv('./resources/완_기간별_dropna_180101_to_230509_ver4.csv', index=False)"
   ]
  },
  {
   "cell_type": "code",
   "execution_count": 11,
   "id": "4b91880b",
   "metadata": {},
   "outputs": [],
   "source": [
    "mv_2018_ver4.to_excel('./resources/완_기간별_dropna_180101_to_230509_ver4.xlsx', index=False)"
   ]
  },
  {
   "cell_type": "code",
   "execution_count": null,
   "id": "85a82d0c",
   "metadata": {},
   "outputs": [],
   "source": []
  }
 ],
 "metadata": {
  "kernelspec": {
   "display_name": "Python 3 (ipykernel)",
   "language": "python",
   "name": "python3"
  },
  "language_info": {
   "codemirror_mode": {
    "name": "ipython",
    "version": 3
   },
   "file_extension": ".py",
   "mimetype": "text/x-python",
   "name": "python",
   "nbconvert_exporter": "python",
   "pygments_lexer": "ipython3",
   "version": "3.8.7"
  }
 },
 "nbformat": 4,
 "nbformat_minor": 5
}
